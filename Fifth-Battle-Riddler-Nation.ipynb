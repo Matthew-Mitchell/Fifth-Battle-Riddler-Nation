{
 "cells": [
  {
   "cell_type": "markdown",
   "metadata": {},
   "source": [
    "## Problem Statement\n",
    "\n",
    "https://fivethirtyeight.com/features/the-fifth-battle-for-riddler-nation/\n",
    "\n",
    "In a distant, war-torn land, there are 13 castles. There are two warlords: you and your archenemy. Each castle has its own strategic value for a would-be conqueror. Specifically, the castles are worth 1, 2, 3, …, 12, and 13 victory points. You and your enemy each have 100 soldiers to distribute, any way you like, to fight at any of the 13 castles. Whoever sends more soldiers to a given castle conquers that castle and wins its victory points. If you each send the same number of troops, you split the points. You don’t know what distribution of forces your enemy has chosen until the battles begin. Whoever wins the most points wins the war.\n",
    "\n",
    "Submit a plan distributing your 100 soldiers among the 13 castles. Once we receive all your battle plans, we’ll adjudicate all the possible one-on-one matchups. Whoever wins the most wars wins the battle royale and is crowned ruler of Riddler Nation!"
   ]
  },
  {
   "cell_type": "markdown",
   "metadata": {},
   "source": [
    "## Total Victory Points"
   ]
  },
  {
   "cell_type": "code",
   "execution_count": 2,
   "metadata": {},
   "outputs": [
    {
     "data": {
      "text/plain": [
       "91"
      ]
     },
     "execution_count": 2,
     "metadata": {},
     "output_type": "execute_result"
    }
   ],
   "source": [
    "14*6+7"
   ]
  },
  {
   "cell_type": "markdown",
   "metadata": {},
   "source": [
    "46 points to win"
   ]
  },
  {
   "cell_type": "code",
   "execution_count": 6,
   "metadata": {},
   "outputs": [],
   "source": [
    "from itertools import product\n",
    "import numpy as np"
   ]
  },
  {
   "cell_type": "markdown",
   "metadata": {},
   "source": [
    "## Total number of Deployments\n",
    "\n",
    "* How many ways can you split 100 soldiers across 13 castles?\n",
    "\n",
    "References: \n",
    "* https://www.statlect.com/mathematical-tools/partitions\n",
    "* https://stackoverflow.com/questions/39192777/how-to-split-a-list-into-n-groups-in-all-possible-combinations-of-group-length-a"
   ]
  },
  {
   "cell_type": "markdown",
   "metadata": {},
   "source": [
    "## Stochastic Approach"
   ]
  },
  {
   "cell_type": "code",
   "execution_count": 60,
   "metadata": {},
   "outputs": [
    {
     "name": "stderr",
     "output_type": "stream",
     "text": [
      "/home/matt/anaconda3/lib/python3.7/site-packages/ipykernel_launcher.py:14: MatplotlibDeprecationWarning: scipy.stats.norm.pdf\n",
      "  \n"
     ]
    },
    {
     "data": {
      "image/png": "[encoded data removed]",
      "text/plain": [
       "<Figure size 432x288 with 1 Axes>"
      ]
     },
     "metadata": {
      "needs_background": "light"
     },
     "output_type": "display_data"
    }
   ],
   "source": [
    "import matplotlib.pyplot as plt\n",
    "import numpy as np\n",
    "import matplotlib.mlab as mlab\n",
    "import math\n",
    "import seaborn as sns\n",
    "plt.style.use('ggplot')\n",
    "# sns.set_style('darkgrid')\n",
    "%matplotlib inline\n",
    "\n",
    "mu = 100/12\n",
    "# variance = 30\n",
    "sigma = 10\n",
    "x = np.linspace(mu - 3*sigma, mu + 3*sigma, 100)\n",
    "plt.plot(x,mlab.normpdf(x, mu, sigma))\n",
    "plt.show()"
   ]
  },
  {
   "cell_type": "code",
   "execution_count": 73,
   "metadata": {},
   "outputs": [],
   "source": [
    "#Choose a [random] number between 0 and 100. This will be the number of soldiers sent to castle 1. \n",
    "#Choose a number between 0 and the remaining soldiers available. This will be the number of soldiers sent to castle 2.\n",
    "#Continue this process through castle 13.\n",
    "\n",
    "#This set constitutes a battle plan.\n",
    "\n",
    "#Helper function for generating deployments more strategically\n",
    "def generate_squad(soldiers, castles_remaining):\n",
    "    while True:\n",
    "        to_deploy = round(np.random.normal(loc= soldiers/castles_remaining , scale=10), 0)\n",
    "        if (to_deploy >= 0) and (to_deploy <= soldiers):\n",
    "            return to_deploy\n",
    "def generate_bp():\n",
    "    bp = []\n",
    "    soldiers = 100\n",
    "    for i in range(12):\n",
    "        #to_deploy = np.random.randint(low=0, high=soldiers+1)\n",
    "        castles_remaining = 13 - i\n",
    "        to_deploy = generate_squad(soldiers, castles_remaining)\n",
    "        soldiers -= to_deploy\n",
    "        bp.append(to_deploy)\n",
    "    #Deploy remaining soldiers to castle 13\n",
    "    bp.append(soldiers)\n",
    "    #Reverse order to make a more compelling bp on average\n",
    "    #Statistically this will generally generate terrible battle plans as most soldiers are apt to be deployed to low castles. Thus, order reversed.\n",
    "    bp = tuple(bp[-1::-1])\n",
    "    assert(sum(bp)==100)\n",
    "    return bp"
   ]
  },
  {
   "cell_type": "code",
   "execution_count": 74,
   "metadata": {},
   "outputs": [
    {
     "data": {
      "text/plain": [
       "(2.0, 1.0, 2.0, 27.0, 2.0, 18.0, 14.0, 4.0, 3.0, 12.0, 7.0, 4.0, 4.0)"
      ]
     },
     "execution_count": 74,
     "metadata": {},
     "output_type": "execute_result"
    }
   ],
   "source": [
    "generate_bp()"
   ]
  },
  {
   "cell_type": "markdown",
   "metadata": {},
   "source": [
    "### Additional Terminology Defined\n",
    "\n",
    "* commanders_book - a set of battle plans\n",
    "* matchup - a tuple of 2 battle plans to face off"
   ]
  },
  {
   "cell_type": "markdown",
   "metadata": {},
   "source": [
    "## Scoring"
   ]
  },
  {
   "cell_type": "code",
   "execution_count": 107,
   "metadata": {},
   "outputs": [],
   "source": [
    "def score(bp1, bp2):\n",
    "    #Initialize scores\n",
    "    score1 = score2 = 0\n",
    "    for castle, (s1, s2) in enumerate(list(zip(bp1,bp2))):\n",
    "        if s1 > s2:\n",
    "            score1 += castle+1\n",
    "        elif s2 > s1:\n",
    "            score2 += castle+1\n",
    "        else:\n",
    "            score1 += (castle+1)/2\n",
    "            score2 += (castle+1)/2\n",
    "    if score1 > score2:\n",
    "        return (1, score1)\n",
    "    elif score2 > score1:\n",
    "        return (2, score2)\n",
    "    else:\n",
    "        return (\"Draw\", score1)\n",
    "\n",
    "#Simple enough to negate\n",
    "# def matchups(cb1, cb2):\n",
    "#     return product(cb1, cb2)\n",
    "\n",
    "def simulate_winner(cb1, cb2):\n",
    "    score1, score2, draws = 0\n",
    "    for matchup in product(cb1, cb2):\n",
    "        result = score(matchup[0], matchup[1])\n",
    "        if result == 1:\n",
    "            score1 += 1\n",
    "        elif result ==2:\n",
    "            score2 += 1\n",
    "        else:\n",
    "            draws +=1   \n",
    "    if score1 > score2:\n",
    "        return (1, score1)\n",
    "    elif score2 > score1:\n",
    "        return (2, score2)\n",
    "    else:\n",
    "        return (\"Draw\", scor1)"
   ]
  },
  {
   "cell_type": "code",
   "execution_count": 71,
   "metadata": {},
   "outputs": [],
   "source": [
    "import datetime"
   ]
  },
  {
   "cell_type": "code",
   "execution_count": 81,
   "metadata": {},
   "outputs": [
    {
     "name": "stdout",
     "output_type": "stream",
     "text": [
      "299999  total unique plans.\n",
      "Of those generated,  99.999 % were new and unique\n",
      "Process took: 0:00:08.233834\n"
     ]
    }
   ],
   "source": [
    "start = datetime.datetime.now()\n",
    "\n",
    "# all_plans = set()\n",
    "start_len = len(all_plans)\n",
    "n_to_generate = 10**5\n",
    "for i in range(n_to_generate):\n",
    "    new_bp = generate_bp()\n",
    "    if new_bp not in all_plans:\n",
    "        all_plans.add(new_bp)\n",
    "number_new_plans = len(all_plans) - start_len\n",
    "print(len(all_plans), \" total unique plans.\")\n",
    "print(\"Of those generated, \",100*number_new_plans/n_to_generate, \"% were new and unique\")\n",
    "\n",
    "end = datetime.datetime.now()\n",
    "elapsed = end - start\n",
    "print(\"Process took:\", elapsed)"
   ]
  },
  {
   "cell_type": "markdown",
   "metadata": {},
   "source": [
    "## Comments\n",
    "\n",
    "Takes about 8-9 seconds to generate 10,000 battle plans. Clearly the number of possible plans is vast.\n",
    "\n",
    "## Next Steps:\n",
    "\n",
    "* Rate/ weight battle plans?\n",
    "    * How? Against each other solely? Standard/human conceived strategies?\n",
    "    * Human strategy thought 1:\n",
    "        * How do I get 46 points, and "
   ]
  },
  {
   "cell_type": "markdown",
   "metadata": {},
   "source": [
    "## Simulate a battle!"
   ]
  },
  {
   "cell_type": "code",
   "execution_count": 119,
   "metadata": {},
   "outputs": [
    {
     "name": "stdout",
     "output_type": "stream",
     "text": [
      "(0.0, 6.0, 2.0, 10.0, 12.0, 0.0, 4.0, 12.0, 4.0, 22.0, 21.0, -0.0, 7.0) \n",
      " (1.0, -0.0, 8.0, 11.0, 2.0, 9.0, 15.0, 13.0, 13.0, 14.0, 2.0, 12.0, 0.0)\n",
      "(2, 50)\n",
      "Process took: 0:00:00.036895\n"
     ]
    }
   ],
   "source": [
    "start = datetime.datetime.now()\n",
    "\n",
    "idxs = np.random.choice(len(all_plans), size=2)\n",
    "bp1 = list(all_plans)[idxs[0]]\n",
    "bp2 = list(all_plans)[idxs[1]]\n",
    "print(bp1,'\\n', bp2)\n",
    "print(score(bp1,bp2))\n",
    "\n",
    "end = datetime.datetime.now()\n",
    "elapsed = end - start\n",
    "print(\"Process took:\", elapsed)"
   ]
  },
  {
   "cell_type": "markdown",
   "metadata": {},
   "source": [
    "## Iterate and Score the BPs"
   ]
  },
  {
   "cell_type": "code",
   "execution_count": null,
   "metadata": {},
   "outputs": [],
   "source": []
  },
  {
   "cell_type": "markdown",
   "metadata": {},
   "source": [
    "## "
   ]
  }
 ],
 "metadata": {
  "kernelspec": {
   "display_name": "Python 3",
   "language": "python",
   "name": "python3"
  },
  "language_info": {
   "codemirror_mode": {
    "name": "ipython",
    "version": 3
   },
   "file_extension": ".py",
   "mimetype": "text/x-python",
   "name": "python",
   "nbconvert_exporter": "python",
   "pygments_lexer": "ipython3",
   "version": "3.7.3"
  }
 },
 "nbformat": 4,
 "nbformat_minor": 2
}
